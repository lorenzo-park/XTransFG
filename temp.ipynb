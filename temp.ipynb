{
 "metadata": {
  "language_info": {
   "codemirror_mode": {
    "name": "ipython",
    "version": 3
   },
   "file_extension": ".py",
   "mimetype": "text/x-python",
   "name": "python",
   "nbconvert_exporter": "python",
   "pygments_lexer": "ipython3",
   "version": "3.7.10"
  },
  "orig_nbformat": 2,
  "kernelspec": {
   "name": "python3710jvsc74a57bd0ef5dddf3396bdd55ac5e0a59d6dc121e77b0322ce4c768edc846bd1ea0f25d09",
   "display_name": "Python 3.7.10 64-bit ('xfg': conda)"
  }
 },
 "nbformat": 4,
 "nbformat_minor": 2,
 "cells": [
  {
   "cell_type": "code",
   "execution_count": 1,
   "metadata": {},
   "outputs": [],
   "source": [
    "import os\n",
    "import random\n",
    "import torch\n",
    "import numpy as np\n",
    "\n",
    "\n",
    "def seed_everything(seed):\n",
    "    \"\"\"\n",
    "    Seeds basic parameters for reproductibility of results\n",
    "    \n",
    "    Arguments:\n",
    "        seed {int} -- Number of the seed\n",
    "    \"\"\"\n",
    "    random.seed(seed)\n",
    "    os.environ[\"PYTHONHASHSEED\"] = str(seed)\n",
    "    np.random.seed(seed)\n",
    "    torch.manual_seed(seed)\n",
    "    torch.cuda.manual_seed(seed)\n",
    "    torch.backends.cudnn.deterministic = True\n",
    "    torch.backends.cudnn.benchmark = False\n",
    "\n",
    "\n",
    "seed_everything(8888)"
   ]
  },
  {
   "cell_type": "code",
   "execution_count": 2,
   "metadata": {},
   "outputs": [],
   "source": [
    "from torchvision import transforms\n",
    "from torchvision.transforms.functional import InterpolationMode\n",
    "from PIL import Image\n",
    "from omegaconf import DictConfig\n",
    "\n",
    "from dataset.cub import CUB200\n",
    "from model.vit import VisionTransformer"
   ]
  },
  {
   "cell_type": "code",
   "execution_count": 3,
   "metadata": {},
   "outputs": [],
   "source": [
    "config = DictConfig({\n",
    "    \"patch_size\": 16,\n",
    "    \"split\": \"non-overlap\",\n",
    "    \"slide_step\": 12,\n",
    "    \"hidden_size\": 768,\n",
    "    \"classifier\": \"token\",\n",
    "    \"dropout\": 0.1,\n",
    "    \"max_len\": 100,\n",
    "    \"transformer\": {\n",
    "        \"mlp_dim\": 3072,\n",
    "        \"num_heads\": 12,\n",
    "        \"num_layers\": 12,\n",
    "        \"attention_dropout_rate\": 0.0,\n",
    "    },\n",
    "    \"batch_size\": 16,\n",
    "    \"image_size\": 448,\n",
    "    \"lr\": 2e-5,\n",
    "    \"momentum\": 0.9,\n",
    "    \"epoch\": 10,\n",
    "})"
   ]
  },
  {
   "cell_type": "code",
   "execution_count": 4,
   "metadata": {},
   "outputs": [],
   "source": [
    "def scale_keep_ar_min_fixed(img, fixed_min):\n",
    "    ow, oh = img.size\n",
    "\n",
    "    if ow < oh:\n",
    "        nw = fixed_min\n",
    "        nh = nw * oh // ow\n",
    "    else:\n",
    "        nh = fixed_min\n",
    "        nw = nh * ow // oh\n",
    "    return img.resize((nw, nh), InterpolationMode.BICUBIC)\n",
    "\n",
    "train_transform=transforms.Compose([\n",
    "    transforms.Resize((600, 600), InterpolationMode.BILINEAR),\n",
    "    transforms.RandomCrop((448, 448)),\n",
    "    transforms.RandomHorizontalFlip(),\n",
    "    transforms.ToTensor(),\n",
    "    transforms.Normalize([0.485, 0.456, 0.406], [0.229, 0.224, 0.225])\n",
    "])\n",
    "test_transform=transforms.Compose([\n",
    "    transforms.Resize((600, 600), InterpolationMode.BILINEAR),\n",
    "    transforms.CenterCrop((448, 448)),\n",
    "    transforms.ToTensor(),\n",
    "    transforms.Normalize([0.485, 0.456, 0.406], [0.229, 0.224, 0.225])\n",
    "])"
   ]
  },
  {
   "cell_type": "code",
   "execution_count": 5,
   "metadata": {},
   "outputs": [
    {
     "output_type": "execute_result",
     "data": {
      "text/plain": [
       "torch.Size([1, 200])"
      ]
     },
     "metadata": {},
     "execution_count": 5
    }
   ],
   "source": [
    "model = VisionTransformer(config)\n",
    "\n",
    "img, _, target = CUB200(root=\"./data\", train=True, transform=train_transform)[0]\n",
    "img = img.unsqueeze(0)\n",
    "model(img).shape"
   ]
  },
  {
   "cell_type": "code",
   "execution_count": null,
   "metadata": {},
   "outputs": [],
   "source": []
  },
  {
   "cell_type": "code",
   "execution_count": null,
   "metadata": {},
   "outputs": [],
   "source": []
  }
 ]
}