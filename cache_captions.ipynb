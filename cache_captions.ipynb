{
 "metadata": {
  "language_info": {
   "codemirror_mode": {
    "name": "ipython",
    "version": 3
   },
   "file_extension": ".py",
   "mimetype": "text/x-python",
   "name": "python",
   "nbconvert_exporter": "python",
   "pygments_lexer": "ipython3",
   "version": "3.7.10"
  },
  "orig_nbformat": 2,
  "kernelspec": {
   "name": "python3710jvsc74a57bd0ef5dddf3396bdd55ac5e0a59d6dc121e77b0322ce4c768edc846bd1ea0f25d09",
   "display_name": "Python 3.7.10 64-bit ('xfg': conda)"
  }
 },
 "nbformat": 4,
 "nbformat_minor": 2,
 "cells": [
  {
   "cell_type": "code",
   "execution_count": 1,
   "metadata": {},
   "outputs": [
    {
     "output_type": "stream",
     "name": "stderr",
     "text": [
      "100%|██████████| 202/202 [01:35<00:00,  2.11it/s]\n"
     ]
    }
   ],
   "source": [
    "from transformers import RobertaTokenizer, RobertaForMaskedLM\n",
    "\n",
    "import os\n",
    "import torch\n",
    "import tqdm\n",
    "\n",
    "tokenizer = RobertaTokenizer.from_pretrained('./pretrained')\n",
    "model = RobertaForMaskedLM.from_pretrained('./pretrained', output_hidden_states=True)\n",
    "model.to(\"cuda:0\")\n",
    "\n",
    "txt_root = \"./data/text_c10\"\n",
    "img_root = \"./data/CUB_200_2011/images\"\n",
    "max_len = 0\n",
    "for bird in tqdm.tqdm(os.listdir(txt_root)):\n",
    "    if \".txt\" in bird:\n",
    "        continue\n",
    "    bird_root = os.path.join(txt_root, bird)\n",
    "    for filename in os.listdir(bird_root):\n",
    "        if \".txt\" not in filename:\n",
    "            continue\n",
    "        with open(os.path.join(bird_root, filename)) as f:\n",
    "            input_txt = f.readlines()[0]\n",
    "        inputs = tokenizer(input_txt, return_tensors=\"pt\").to(\"cuda:0\")\n",
    "\n",
    "        outputs = model(**inputs)\n",
    "        saved_path = os.path.join(img_root, bird, filename) + \".pt\"\n",
    "        torch.save(outputs.hidden_states[-1], saved_path)\n",
    "        if outputs.hidden_states[-1].shape[1] > max_len:\n",
    "            max_len = outputs.hidden_states[-1].shape[1]"
   ]
  },
  {
   "cell_type": "code",
   "execution_count": 2,
   "metadata": {},
   "outputs": [
    {
     "output_type": "execute_result",
     "data": {
      "text/plain": [
       "80"
      ]
     },
     "metadata": {},
     "execution_count": 2
    }
   ],
   "source": [
    "max_len"
   ]
  }
 ]
}