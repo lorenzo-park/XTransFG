{
 "metadata": {
  "language_info": {
   "codemirror_mode": {
    "name": "ipython",
    "version": 3
   },
   "file_extension": ".py",
   "mimetype": "text/x-python",
   "name": "python",
   "nbconvert_exporter": "python",
   "pygments_lexer": "ipython3",
   "version": "3.7.10"
  },
  "orig_nbformat": 2,
  "kernelspec": {
   "name": "python3710jvsc74a57bd045dc801741b9541dafe6d7862d4c77233e21526c7bb08fef68fed00977695993",
   "display_name": "Python 3.7.10 64-bit ('ocr': conda)"
  }
 },
 "nbformat": 4,
 "nbformat_minor": 2,
 "cells": [
  {
   "cell_type": "code",
   "execution_count": 7,
   "metadata": {},
   "outputs": [
    {
     "output_type": "error",
     "ename": "NameError",
     "evalue": "name 'all_lines' is not defined",
     "traceback": [
      "\u001b[0;31m---------------------------------------------------------------------------\u001b[0m",
      "\u001b[0;31mNameError\u001b[0m                                 Traceback (most recent call last)",
      "\u001b[0;32m<ipython-input-7-dd6baaa68e19>\u001b[0m in \u001b[0;36m<module>\u001b[0;34m\u001b[0m\n\u001b[1;32m     16\u001b[0m         \u001b[0;32mwith\u001b[0m \u001b[0mopen\u001b[0m\u001b[0;34m(\u001b[0m\u001b[0mos\u001b[0m\u001b[0;34m.\u001b[0m\u001b[0mpath\u001b[0m\u001b[0;34m.\u001b[0m\u001b[0mjoin\u001b[0m\u001b[0;34m(\u001b[0m\u001b[0msentence_path\u001b[0m\u001b[0;34m,\u001b[0m \u001b[0mbird\u001b[0m\u001b[0;34m,\u001b[0m \u001b[0mfilename\u001b[0m\u001b[0;34m)\u001b[0m\u001b[0;34m)\u001b[0m \u001b[0;32mas\u001b[0m \u001b[0mf\u001b[0m\u001b[0;34m:\u001b[0m\u001b[0;34m\u001b[0m\u001b[0;34m\u001b[0m\u001b[0m\n\u001b[1;32m     17\u001b[0m             \u001b[0;32mfor\u001b[0m \u001b[0mline\u001b[0m \u001b[0;32min\u001b[0m \u001b[0mf\u001b[0m\u001b[0;34m.\u001b[0m\u001b[0mreadlines\u001b[0m\u001b[0;34m(\u001b[0m\u001b[0;34m)\u001b[0m\u001b[0;34m:\u001b[0m\u001b[0;34m\u001b[0m\u001b[0;34m\u001b[0m\u001b[0m\n\u001b[0;32m---> 18\u001b[0;31m                 \u001b[0mall_lines\u001b[0m\u001b[0;34m.\u001b[0m\u001b[0mappend\u001b[0m\u001b[0;34m(\u001b[0m\u001b[0mline\u001b[0m\u001b[0;34m)\u001b[0m\u001b[0;34m\u001b[0m\u001b[0;34m\u001b[0m\u001b[0m\n\u001b[0m\u001b[1;32m     19\u001b[0m \u001b[0;34m\u001b[0m\u001b[0m\n\u001b[1;32m     20\u001b[0m \u001b[0;31m# all_lines = []\u001b[0m\u001b[0;34m\u001b[0m\u001b[0;34m\u001b[0m\u001b[0;34m\u001b[0m\u001b[0m\n",
      "\u001b[0;31mNameError\u001b[0m: name 'all_lines' is not defined"
     ]
    }
   ],
   "source": [
    "import os\n",
    "import re\n",
    "\n",
    "def anonymize(line, word):\n",
    "    anon_line = line.replace(word, \"it\")\n",
    "    if line == anon_line:\n",
    "        anon_line = line.replace(word+\"s\", \"they\")\n",
    "    return line\n",
    "\n",
    "all_lines = []\n",
    "sentence_path = \"/home/lorenzo-lab/project/xfg/data/text_c10\"\n",
    "birds = os.listdir(sentence_path)\n",
    "for bird in birds:\n",
    "    for filename in os.listdir(os.path.join(sentence_path, bird)):\n",
    "        if \".txt\" not in filename:\n",
    "            continue\n",
    "        with open(os.path.join(sentence_path, bird, filename)) as f:\n",
    "            for line in f.readlines():\n",
    "                all_lines.append(line)\n",
    "\n",
    "# for filename in files:\n",
    "#     with open(os.path.join(sentence_path, filename)) as f:\n",
    "#         lines = f.readlines()\n",
    "#         for line in lines:\n",
    "#             species = filename.split(\".\")[1].replace(\"_\", \" \").lower()\n",
    "#             all_lines.append(anonymize(\" \".join(line.split(\" \")[1:]).strip(), species))"
   ]
  },
  {
   "cell_type": "code",
   "execution_count": 80,
   "metadata": {},
   "outputs": [],
   "source": [
    "import random\n",
    "\n",
    "valid_lines = random.sample(all_lines, int(0.1*len(all_lines)))\n",
    "train_lines = [x for x in all_lines if x not in valid_lines]"
   ]
  },
  {
   "cell_type": "code",
   "execution_count": 81,
   "metadata": {
    "tags": []
   },
   "outputs": [],
   "source": [
    "with open(os.path.join(sentence_path, \"CUB_train.txt\"), \"w\") as f:\n",
    "    for line in train_lines:\n",
    "        if len(line) < 5:\n",
    "            continue\n",
    "        f.write(line + \"\\n\")"
   ]
  },
  {
   "cell_type": "code",
   "execution_count": 82,
   "metadata": {},
   "outputs": [],
   "source": [
    "with open(os.path.join(sentence_path, \"CUB_val.txt\"), \"w\") as f:\n",
    "    for line in valid_lines:\n",
    "        if len(line) < 5:\n",
    "            continue\n",
    "        f.write(line + \"\\n\")"
   ]
  },
  {
   "cell_type": "code",
   "execution_count": 60,
   "metadata": {},
   "outputs": [
    {
     "output_type": "stream",
     "name": "stdout",
     "text": [
      "python: can't open file 'run_mlm.py': [Errno 2] No such file or directory\n"
     ]
    }
   ],
   "source": [
    "python run_mlm.py \\\n",
    "    --model_name_or_path roberta-base \\\n",
    "    --train_file /home/lorenzo-lab/project/xfg/data/Raw_Wiki_Articles/CUBird_Sentences/CUB_train.txt \\\n",
    "    --validation_file /home/lorenzo-lab/project/xfg/data/Raw_Wiki_Articles/CUBird_Sentences/CUB_val.txt \\\n",
    "    --do_train \\\n",
    "    --do_eval \\\n",
    "    --output_dir /home/lorenzo-lab/project/xfg/pretrained"
   ]
  },
  {
   "cell_type": "code",
   "execution_count": null,
   "metadata": {},
   "outputs": [],
   "source": []
  }
 ]
}